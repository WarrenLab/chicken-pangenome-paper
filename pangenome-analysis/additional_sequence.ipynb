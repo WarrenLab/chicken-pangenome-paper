{
 "cells": [
  {
   "cell_type": "code",
   "execution_count": 15,
   "id": "d925eaa7-6f8c-4c77-b080-07e4c075ca48",
   "metadata": {
    "tags": []
   },
   "outputs": [],
   "source": [
    "import pandas as pd\n",
    "import seaborn as sns\n",
    "import matplotlib.pyplot as plt"
   ]
  },
  {
   "cell_type": "code",
   "execution_count": 4,
   "id": "01d4378c-5f93-4f64-9fc6-d30419514bf7",
   "metadata": {
    "tags": []
   },
   "outputs": [
    {
     "data": {
      "text/html": [
       "<div>\n",
       "<style scoped>\n",
       "    .dataframe tbody tr th:only-of-type {\n",
       "        vertical-align: middle;\n",
       "    }\n",
       "\n",
       "    .dataframe tbody tr th {\n",
       "        vertical-align: top;\n",
       "    }\n",
       "\n",
       "    .dataframe thead th {\n",
       "        text-align: right;\n",
       "    }\n",
       "</style>\n",
       "<table border=\"1\" class=\"dataframe\">\n",
       "  <thead>\n",
       "    <tr style=\"text-align: right;\">\n",
       "      <th></th>\n",
       "      <th>assembly</th>\n",
       "      <th>new sequence</th>\n",
       "    </tr>\n",
       "  </thead>\n",
       "  <tbody>\n",
       "    <tr>\n",
       "      <th>0</th>\n",
       "      <td>huxu</td>\n",
       "      <td>1016726468</td>\n",
       "    </tr>\n",
       "    <tr>\n",
       "      <th>1</th>\n",
       "      <td>bGalGal1b</td>\n",
       "      <td>55646931</td>\n",
       "    </tr>\n",
       "    <tr>\n",
       "      <th>2</th>\n",
       "      <td>bGalGal5</td>\n",
       "      <td>15700802</td>\n",
       "    </tr>\n",
       "    <tr>\n",
       "      <th>3</th>\n",
       "      <td>GHs_6_7174</td>\n",
       "      <td>9149912</td>\n",
       "    </tr>\n",
       "    <tr>\n",
       "      <th>4</th>\n",
       "      <td>bGalGal4</td>\n",
       "      <td>6674110</td>\n",
       "    </tr>\n",
       "    <tr>\n",
       "      <th>5</th>\n",
       "      <td>8_15-1_7545</td>\n",
       "      <td>4839546</td>\n",
       "    </tr>\n",
       "    <tr>\n",
       "      <th>6</th>\n",
       "      <td>M_5-1_7316</td>\n",
       "      <td>3800292</td>\n",
       "    </tr>\n",
       "    <tr>\n",
       "      <th>7</th>\n",
       "      <td>Sp_21-1_7514</td>\n",
       "      <td>3254595</td>\n",
       "    </tr>\n",
       "    <tr>\n",
       "      <th>8</th>\n",
       "      <td>15-N-21_f5177</td>\n",
       "      <td>2640217</td>\n",
       "    </tr>\n",
       "    <tr>\n",
       "      <th>9</th>\n",
       "      <td>bGalGal1w</td>\n",
       "      <td>2268886</td>\n",
       "    </tr>\n",
       "    <tr>\n",
       "      <th>10</th>\n",
       "      <td>UCD312</td>\n",
       "      <td>1983368</td>\n",
       "    </tr>\n",
       "    <tr>\n",
       "      <th>11</th>\n",
       "      <td>M_15-2_7501</td>\n",
       "      <td>773766</td>\n",
       "    </tr>\n",
       "    <tr>\n",
       "      <th>12</th>\n",
       "      <td>15-15_I-5_f4470</td>\n",
       "      <td>545586</td>\n",
       "    </tr>\n",
       "    <tr>\n",
       "      <th>13</th>\n",
       "      <td>UCD003</td>\n",
       "      <td>382722</td>\n",
       "    </tr>\n",
       "    <tr>\n",
       "      <th>14</th>\n",
       "      <td>15-P-13_f4814</td>\n",
       "      <td>300641</td>\n",
       "    </tr>\n",
       "    <tr>\n",
       "      <th>15</th>\n",
       "      <td>15-C-12_f4575</td>\n",
       "      <td>249846</td>\n",
       "    </tr>\n",
       "    <tr>\n",
       "      <th>16</th>\n",
       "      <td>15-6-2_f4028</td>\n",
       "      <td>204714</td>\n",
       "    </tr>\n",
       "    <tr>\n",
       "      <th>17</th>\n",
       "      <td>15-P-19_f4984</td>\n",
       "      <td>198384</td>\n",
       "    </tr>\n",
       "  </tbody>\n",
       "</table>\n",
       "</div>"
      ],
      "text/plain": [
       "           assembly  new sequence\n",
       "0              huxu    1016726468\n",
       "1         bGalGal1b      55646931\n",
       "2          bGalGal5      15700802\n",
       "3        GHs_6_7174       9149912\n",
       "4          bGalGal4       6674110\n",
       "5       8_15-1_7545       4839546\n",
       "6        M_5-1_7316       3800292\n",
       "7      Sp_21-1_7514       3254595\n",
       "8     15-N-21_f5177       2640217\n",
       "9         bGalGal1w       2268886\n",
       "10           UCD312       1983368\n",
       "11      M_15-2_7501        773766\n",
       "12  15-15_I-5_f4470        545586\n",
       "13           UCD003        382722\n",
       "14    15-P-13_f4814        300641\n",
       "15    15-C-12_f4575        249846\n",
       "16     15-6-2_f4028        204714\n",
       "17    15-P-19_f4984        198384"
      ]
     },
     "execution_count": 4,
     "metadata": {},
     "output_type": "execute_result"
    }
   ],
   "source": [
    "df = pd.read_csv(\"sequence_per_haplotype.tsv\", sep=\"\\t\", names=[\"assembly\", \"new sequence\"])\n",
    "df"
   ]
  },
  {
   "cell_type": "code",
   "execution_count": 7,
   "id": "218200e0-9980-4433-bbf6-c935c0e15e86",
   "metadata": {
    "tags": []
   },
   "outputs": [
    {
     "data": {
      "text/plain": [
       "108614318"
      ]
     },
     "execution_count": 7,
     "metadata": {},
     "output_type": "execute_result"
    }
   ],
   "source": [
    "sum(df[\"new sequence\"]) - df.iloc[0, 1]"
   ]
  },
  {
   "cell_type": "code",
   "execution_count": 13,
   "id": "2745f17e-a7f4-41e1-8219-fe194b03de69",
   "metadata": {
    "tags": []
   },
   "outputs": [],
   "source": [
    "df[\"new sequence (Mb)\"] = df[\"new sequence\"]/1e6"
   ]
  },
  {
   "cell_type": "code",
   "execution_count": 22,
   "id": "52208750-cd82-4bd1-84ce-51b30938dd94",
   "metadata": {
    "tags": []
   },
   "outputs": [
    {
     "data": {
      "image/png": "[encoded data removed]",
      "text/plain": [
       "<Figure size 640x480 with 1 Axes>"
      ]
     },
     "metadata": {},
     "output_type": "display_data"
    }
   ],
   "source": [
    "fig, ax = plt.subplots()\n",
    "sns.barplot(df[1:], x=\"assembly\", y=\"new sequence (Mb)\")\n",
    "ax.set_xticklabels(ax.get_xticklabels(), rotation=90, horizontalalignment='right')\n",
    "#plt.show()\n",
    "plt.savefig(\"Supplementary_Figure_S1.pdf\", bbox_inches=\"tight\")\n",
    "plt.savefig(\"Supplementary_Figure_S1.png\", bbox_inches=\"tight\")"
   ]
  }
 ],
 "metadata": {
  "kernelspec": {
   "display_name": "scanpy",
   "language": "python",
   "name": "scanpy"
  },
  "language_info": {
   "codemirror_mode": {
    "name": "ipython",
    "version": 3
   },
   "file_extension": ".py",
   "mimetype": "text/x-python",
   "name": "python",
   "nbconvert_exporter": "python",
   "pygments_lexer": "ipython3",
   "version": "3.10.11"
  }
 },
 "nbformat": 4,
 "nbformat_minor": 5
}
